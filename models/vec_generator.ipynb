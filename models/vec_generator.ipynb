{
 "cells": [
  {
   "cell_type": "code",
   "execution_count": 2,
   "metadata": {},
   "outputs": [],
   "source": [
    "import numpy as np\n",
    "import pandas as pd\n",
    "import seaborn as sns\n",
    "import bz2\n",
    "import re\n",
    "import os\n",
    "import gc\n",
    "import pickle\n"
   ]
  },
  {
   "cell_type": "code",
   "execution_count": 3,
   "metadata": {},
   "outputs": [],
   "source": [
    "train_texts = np.load(\"../data/cleaned_data/train_texts.npy\")\n",
    "test_texts = np.load(\"../data/cleaned_data/test_texts.npy\")\n",
    "\n",
    "train_labels = np.load(\"../data/cleaned_data/train_labels.npy\")\n",
    "test_labels = np.load(\"../data/cleaned_data/test_labels.npy\")"
   ]
  },
  {
   "cell_type": "code",
   "execution_count": 5,
   "metadata": {},
   "outputs": [
    {
     "name": "stdout",
     "output_type": "stream",
     "text": [
      "Fitting data...\n",
      "fit complete !\n",
      "tranforming training set...\n",
      "tranforming test set...\n"
     ]
    }
   ],
   "source": [
    "from sklearn.feature_extraction.text import CountVectorizer\n",
    "\n",
    "print('Fitting data...')\n",
    "count_vect = CountVectorizer()\n",
    "count_vect.fit(train_texts)\n",
    "print('fit complete !')\n",
    "\n",
    "print('tranforming training set...')\n",
    "train_texts_vec = count_vect.transform(train_texts)\n",
    "\n",
    "print('tranforming test set...')\n",
    "test_texts_vec = count_vect.transform(test_texts)"
   ]
  },
  {
   "cell_type": "code",
   "execution_count": 6,
   "metadata": {},
   "outputs": [],
   "source": [
    "with open(\"../data/vec/trainvec.pkl\", 'wb') as fout:\n",
    "    pickle.dump((train_texts_vec), fout)"
   ]
  },
  {
   "cell_type": "code",
   "execution_count": 11,
   "metadata": {},
   "outputs": [],
   "source": [
    "with open(\"../data/vec/testvec.pkl\", 'wb') as fout:\n",
    "    pickle.dump((test_texts_vec), fout)"
   ]
  }
 ],
 "metadata": {
  "kernelspec": {
   "display_name": "Python 3.9.13 64-bit",
   "language": "python",
   "name": "python3"
  },
  "language_info": {
   "codemirror_mode": {
    "name": "ipython",
    "version": 3
   },
   "file_extension": ".py",
   "mimetype": "text/x-python",
   "name": "python",
   "nbconvert_exporter": "python",
   "pygments_lexer": "ipython3",
   "version": "3.9.13"
  },
  "orig_nbformat": 4,
  "vscode": {
   "interpreter": {
    "hash": "aee8b7b246df8f9039afb4144a1f6fd8d2ca17a180786b69acc140d282b71a49"
   }
  }
 },
 "nbformat": 4,
 "nbformat_minor": 2
}
